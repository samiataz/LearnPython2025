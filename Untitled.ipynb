{
 "cells": [
  {
   "cell_type": "code",
   "execution_count": 39,
   "id": "732641d1-e91f-4d5f-a7d8-fbbff70efc6c",
   "metadata": {},
   "outputs": [],
   "source": [
    "import tkinter as tk\n",
    "from tkinter import ttk\n",
    "\n",
    "class HelloView(tk.Frame):\n",
    "    '''A simple friendly module'''\n",
    "    def __init__(self, parent, *args, **kwargs):\n",
    "        super().__init__(parent, *args, **kwargs)\n",
    "        self.name = tk.StringVar()\n",
    "        self.hello_string = tk.StringVar()\n",
    "        self.hello_string.set(\"Hello World\")\n",
    "    \n",
    "        name_label=ttk.Label(self,text=\"Name:\")\n",
    "        name_entry=ttk.Entry(self,textvariable=self.name)\n",
    "        ch_button=ttk.Button(self, text=\"Change\",\n",
    "               command=self.on_change)\n",
    "        hello_label=ttk.Label(self, textvariable=self.hello_string,\n",
    "                          font=(\"TkDefaultFont\",64),wraplength=600)\n",
    "    \n",
    "        name_label.grid(row=0,column=0,sticky=tk.W)\n",
    "        name_entry.grid(row=0,column=1,sticky=(tk.W + tk.E))\n",
    "        ch_button.grid(row=0,column=2,sticky=tk.E)\n",
    "        hello_label.grid(row=1,column=0,columnspan=3)\n",
    "    \n",
    "        self.columnconfigure(1,weight=1)\n",
    "\n",
    "        def on_change(self):\n",
    "           if self.name.get().strip():\n",
    "              self.hello_string.set(\"Hello\" + self.name.get())\n",
    "           else:\n",
    "              self.hello_string.set(\"Hello World\")\n",
    "            \n",
    "class main(tk.Tk):\n",
    "    '''Hello World Main Application'''\n",
    "    def __init__(self, *args, **kwargs):\n",
    "        super().__init__(*args, **kwargs)\n",
    "        self.title(\"Hello Tkinter\")\n",
    "        self.geometry(\"800x600\")\n",
    "        self.resizable(width=False, height=False)\n",
    "\n",
    "        HelloView(self).grid(sticky=(tk.E+tk.W+tk.N+tk.S))\n",
    "        self.columnconfigure(0,weight=1)\n",
    "\n",
    "        if __name_ == '__main__':\n",
    "            app=main()\n",
    "            app.mainloop()\n",
    "                             \n",
    "    "
   ]
  },
  {
   "cell_type": "code",
   "execution_count": null,
   "id": "524b5b8e-a623-491b-afc3-9a621d4afdbb",
   "metadata": {},
   "outputs": [],
   "source": []
  },
  {
   "cell_type": "code",
   "execution_count": null,
   "id": "b7426865-055c-4bf8-99ce-52ef68375178",
   "metadata": {},
   "outputs": [],
   "source": []
  },
  {
   "cell_type": "code",
   "execution_count": null,
   "id": "fadaafc8-76c6-441e-a677-96fa865c2dab",
   "metadata": {},
   "outputs": [],
   "source": []
  },
  {
   "cell_type": "code",
   "execution_count": null,
   "id": "7cfd8a4d-ec64-42bb-8469-553f2cd4ef6f",
   "metadata": {},
   "outputs": [],
   "source": []
  }
 ],
 "metadata": {
  "kernelspec": {
   "display_name": "Python 3 (ipykernel)",
   "language": "python",
   "name": "python3"
  },
  "language_info": {
   "codemirror_mode": {
    "name": "ipython",
    "version": 3
   },
   "file_extension": ".py",
   "mimetype": "text/x-python",
   "name": "python",
   "nbconvert_exporter": "python",
   "pygments_lexer": "ipython3",
   "version": "3.12.4"
  }
 },
 "nbformat": 4,
 "nbformat_minor": 5
}
